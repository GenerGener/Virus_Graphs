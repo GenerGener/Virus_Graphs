{
 "cells": [
  {
   "cell_type": "code",
   "execution_count": 115,
   "metadata": {},
   "outputs": [],
   "source": [
    "import networkx as nx\n",
    "import pandas as pd\n",
    "from functools import partial \n",
    "\n",
    "def to_integer(bitstr):\n",
    "    return int(bitstr, 2)\n",
    "\n",
    "def Rename_Colors(dict_color_ctr_map, color):\n",
    "    return dict_color_ctr_map[color]\n",
    "\n",
    "def Create_Sublineages_Matrix(df):\n",
    "    row_list = []\n",
    "    for i, row in df.iterrows():\n",
    "        K_mer = row['K-Mer']\n",
    "        sub_lin = row['Sublineages'].split(',')\n",
    "        bit_val = [1]*len(sub_lin)\n",
    "        d = dict(zip(sub_lin, bit_val))\n",
    "        d['K_Mer'] = K_mer\n",
    "        row_list.append(d)\n",
    "    df_op = pd.DataFrame(row_list)\n",
    "    df_op.fillna(0, inplace = True)\n",
    "    df_op = df_op.set_index('K_Mer')\n",
    "    df_op.sort_index(axis=1, inplace=True)\n",
    "    df_op = df_op.astype(int).astype(str)\n",
    "    df_op['Bitstring'] = df_op.apply(lambda row: ''.join(row.values.astype(str)), axis=1)\n",
    "    df_op['Color'] = df_op['Bitstring'].apply(to_integer)\n",
    "\n",
    "    color_unique = df_op['Color'].unique()\n",
    "    counter = [i for i in range(len(color_unique))]\n",
    "    color_rename_map = dict(zip(color_unique, counter))\n",
    "    df_op['Color_new'] = df_op['Color'].apply(partial(Rename_Colors, color_rename_map))\n",
    "    return df_op[['Color_new','Bitstring']]\n",
    "    "
   ]
  },
  {
   "cell_type": "code",
   "execution_count": 116,
   "metadata": {},
   "outputs": [],
   "source": [
    "df = pd.read_csv('data/HIV_full_Refs_k23_1.kmer_sublineage_info.tsv', sep = '\\t', names = ['K-Mer','Sublineages'])"
   ]
  },
  {
   "cell_type": "code",
   "execution_count": 117,
   "metadata": {},
   "outputs": [],
   "source": [
    "df_op = Create_Sublineages_Matrix(df)"
   ]
  },
  {
   "cell_type": "code",
   "execution_count": 129,
   "metadata": {},
   "outputs": [],
   "source": [
    "G = nx.read_gexf('data/HIV_full_Refs_k23_1.gexf')\n",
    "nx.set_node_attributes(G, df_op[['Color_new']].T.to_dict())"
   ]
  },
  {
   "cell_type": "code",
   "execution_count": 131,
   "metadata": {},
   "outputs": [
    {
     "data": {
      "text/plain": [
       "{'label': 'AAAAACAGGAAAATATGCCAGAA', 'Color_new': 0}"
      ]
     },
     "execution_count": 131,
     "metadata": {},
     "output_type": "execute_result"
    }
   ],
   "source": [
    "G.nodes['AAAAACAGGAAAATATGCCAGAA']"
   ]
  },
  {
   "cell_type": "code",
   "execution_count": 132,
   "metadata": {},
   "outputs": [],
   "source": [
    "nx.write_gexf(G, \"data/HIV_full_Refs_k23_1_Color_Annotated.gexf\")"
   ]
  },
  {
   "cell_type": "code",
   "execution_count": null,
   "metadata": {},
   "outputs": [],
   "source": []
  }
 ],
 "metadata": {
  "kernelspec": {
   "display_name": "Python 3",
   "language": "python",
   "name": "python3"
  },
  "language_info": {
   "codemirror_mode": {
    "name": "ipython",
    "version": 3
   },
   "file_extension": ".py",
   "mimetype": "text/x-python",
   "name": "python",
   "nbconvert_exporter": "python",
   "pygments_lexer": "ipython3",
   "version": "3.7.3"
  }
 },
 "nbformat": 4,
 "nbformat_minor": 2
}
